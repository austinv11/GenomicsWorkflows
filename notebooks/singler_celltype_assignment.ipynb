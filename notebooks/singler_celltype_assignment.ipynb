{
 "cells": [
  {
   "metadata": {},
   "cell_type": "markdown",
   "source": [
    "# Cell Type Assignment with SingleR\n",
    "\n",
    "Based on the SingleR package tutorials with the `celldex` package for reference datasets unless otherwise specified. https://bioconductor.org/packages/release/bioc/vignettes/SingleR/inst/doc/SingleR.html"
   ],
   "id": "3ff2bdc2a6e17fd7"
  },
  {
   "metadata": {},
   "cell_type": "code",
   "outputs": [],
   "execution_count": null,
   "source": [
    "reference <- Sys.getenv(\"SNAKEMAKE_REFERENCE\")\n",
    "input_file <- Sys.getenv(\"SNAKEMAKE_INPUT_FILE\")  # Input h5ad file\n",
    "output_file <- Sys.getenv(\"SNAKEMAKE_OUTPUT_FILE\")  # Output csv mapping barcodes to cell type data\n",
    "num_threads <- as.integer(Sys.getenv(\"SNAKEMAKE_NUM_THREADS\", \"1\"))  # Number of threads to use\n",
    "\n",
    "# Check that the file exists\n",
    "if (!file.exists(input_file)) {\n",
    "  stop(paste(\"Input file does not exist:\", input_file))\n",
    "}\n",
    "\n",
    "cat(paste(\"Reference:\", reference, \"\\n\"))\n",
    "cat(paste(\"Input file:\", input_file, \"\\n\"))\n",
    "cat(paste(\"Output file:\", output_file, \"\\n\"))\n",
    "cat(paste(\"Number of threads:\", num_threads, \"\\n\"))"
   ],
   "id": "f69a317ac566ae35"
  },
  {
   "metadata": {},
   "cell_type": "code",
   "outputs": [],
   "execution_count": null,
   "source": [
    "# Load the reference dataset\n",
    "library(celldex)\n",
    "if (reference == \"BlueprintEncodeData\") {\n",
    "    reference_dataset <- BlueprintEncodeData()\n",
    "} else if (reference == \"DatabaseImmuneCellExpressionData\") {\n",
    "    reference_dataset <- DatabaseImmuneCellExpressionData()\n",
    "} else if (reference == \"MouseRNAseqData\") {\n",
    "    reference_dataset <- MouseRNAseqData()\n",
    "} else if (reference == \"MonacoImmuneData\") {\n",
    "    reference_dataset <- MonacoImmuneData()\n",
    "} else if (reference == \"ImmGenData\") {\n",
    "    reference_datasset <- ImmGenData()\n",
    "} else if (reference == \"HumanPrimaryCellAtlasData\") {\n",
    "    reference_dataset <- HumanPrimaryCellAtlasData()\n",
    "} else {  # Try to fetch from gypsum: https://rdrr.io/github/LTLA/celldex/man/fetchReference.html\n",
    "    cat(paste(\"Fetching other gypsum reference dataset:\", reference, \"\\n\"))\n",
    "    # Split the reference string by commas and use that as kwargs to pass to fetchReference\n",
    "    reference_args <- strsplit(reference, \",\")[[1]]\n",
    "    reference_dataset <- do.call(fetchReference, as.list(reference_args))\n",
    "}\n",
    "reference_dataset"
   ],
   "id": "7613537620b0e3b6"
  },
  {
   "metadata": {},
   "cell_type": "code",
   "outputs": [],
   "execution_count": null,
   "source": [
    "# Load the input data as a SingleCellExperiment object\n",
    "library(zellkonverter)\n",
    "setZellkonverterVerbose(TRUE)\n",
    "adata <- readH5AD(data)\n",
    "adata"
   ],
   "id": "21094971df1158a0"
  },
  {
   "metadata": {},
   "cell_type": "code",
   "outputs": [],
   "execution_count": null,
   "source": [
    "# Ensure that the input is has logcounts, if not, compute them\n",
    "if (!\"logcounts\" %in% assayNames(adata)) {\n",
    "    library(scuttle)\n",
    "    adata <- logNormCounts(adata, assay.type = \"X\")\n",
    "}"
   ],
   "id": "d2497cf33543b5c2"
  },
  {
   "metadata": {},
   "cell_type": "code",
   "outputs": [],
   "execution_count": null,
   "source": [
    "# Annotate with SingleR\n",
    "library(SingleR)\n",
    "singleR_results <- SingleR(\n",
    "    test = adata,\n",
    "    ref = reference_dataset,\n",
    "    labels = reference_dataset$label.main,\n",
    "    de.method=\"wilcox\",\n",
    "    num.threads = num_threads,\n",
    ")\n",
    "table(singleR_results)"
   ],
   "id": "e8e7f4c04d0df652"
  },
  {
   "metadata": {},
   "cell_type": "code",
   "outputs": [],
   "execution_count": null,
   "source": "plotScoreHeatmap(singleR_results)",
   "id": "7356a400ffcd7a50"
  },
  {
   "metadata": {},
   "cell_type": "code",
   "outputs": [],
   "execution_count": null,
   "source": "plotDeltaDistribution(singleR_results, ncol = 3)",
   "id": "c27f8db9bca7d073"
  },
  {
   "metadata": {},
   "cell_type": "code",
   "outputs": [],
   "execution_count": null,
   "source": [
    "# Save the results to a CSV file\n",
    "singleR_df <- as.data.frame(singleR_results)\n",
    "singleR_df$barcode <- rownames(singleR_df)\n",
    "write.csv(singleR_df, output_file, row.names = FALSE)"
   ],
   "id": "966c3d60afa5bd49"
  },
  {
   "metadata": {},
   "cell_type": "code",
   "outputs": [],
   "execution_count": null,
   "source": "sessionInfo()",
   "id": "2ab484d47ee9b957"
  }
 ],
 "metadata": {
  "kernelspec": {
   "display_name": "R",
   "language": "R",
   "name": "ir"
  },
  "language_info": {
   "codemirror_mode": {
    "name": "ipython",
    "version": 2
   },
   "file_extension": ".r",
   "mimetype": "text/x-r-source",
   "name": "R",
   "nbconvert_exporter": "html",
   "pygments_lexer": "r",
   "version": "2.7.6"
  }
 },
 "nbformat": 4,
 "nbformat_minor": 5
}
