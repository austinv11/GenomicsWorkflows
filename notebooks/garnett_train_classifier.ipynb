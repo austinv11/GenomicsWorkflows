{
 "cells": [
  {
   "metadata": {},
   "cell_type": "markdown",
   "source": "# Cell Type Assignment with Garnett",
   "id": "5c24274b70a7bdb8"
  },
  {
   "metadata": {},
   "cell_type": "markdown",
   "source": "Garnett performs hierarchical cell type assignment, information can be found here: https://cole-trapnell-lab.github.io/garnett/docs_m3/",
   "id": "d02d48d29f9d8b63"
  },
  {
   "metadata": {},
   "cell_type": "code",
   "source": [
    "# Get environment variables\n",
    "marker.list <- Sys.getenv(\"SNAKEMAKE_MARKER_LIST\")\n",
    "data <- Sys.getenv(\"SNAKEMAKE_H5AD_INPUT\")\n",
    "output_file <- Sys.getenv(\"SNAKEMAKE_OUTPUT_FILE\")  # Output csv mapping barcodes to cell type data\n",
    "organsim <- Sys.getenv(\"SNAKEMAKE_ORGANISM\")  # Must be either \"human\" or \"mouse\"\n",
    "celltype_column <- Sys.getenv(\"SNAKEMAKE_CELLTYPE_COLUMN\")  # Column in the classifier that contains the cell type information\n",
    "# Check that the file exists\n",
    "if (!file.exists(marker.list)) {\n",
    "  stop(paste(\"Marker list file does not exist:\", marker.list))\n",
    "}\n",
    "\n",
    "if (!file.exists(data)) {\n",
    "  stop(paste(\"Input data file does not exist:\", data))\n",
    "}\n",
    "\n",
    "cat(paste(\"Marker list file:\", marker.list, \"\\n\"))\n",
    "cat(paste(\"Input data file:\", data, \"\\n\"))\n",
    "cat(paste(\"Output file:\", output_file, \"\\n\"))\n",
    "cat(paste(\"Organism:\", organsim, \"\\n\"))\n",
    "cat(paste(\"Cell type column:\", celltype_column, \"\\n\"))"
   ],
   "id": "d8d17ff242b422a1",
   "outputs": [],
   "execution_count": null
  },
  {
   "cell_type": "code",
   "id": "initial_id",
   "metadata": {
    "collapsed": true
   },
   "source": [
    "library(garnett)\n",
    "# Load the gene database according to the organism\n",
    "if (organsim == \"human\") {\n",
    "  library(org.Hs.eg.db)\n",
    "  gene_db <- org.Hs.eg.db\n",
    "} else if (organsim == \"mouse\") {\n",
    "  library(org.Mm.eg.db)\n",
    "  gene_db <- org.Mm.eg.db\n",
    "} else {\n",
    "  stop(\"Organism must be either 'human' or 'mouse'.\")\n",
    "}"
   ],
   "outputs": [],
   "execution_count": null
  },
  {
   "metadata": {},
   "cell_type": "markdown",
   "source": "Load the single cell data as a SingleCellExperiment object and then convert to a cell_data_set (CDS) object",
   "id": "1f2be2a5c4472ff9"
  },
  {
   "metadata": {},
   "cell_type": "code",
   "source": [
    "library(zellkonverter)\n",
    "setZellkonverterVerbose(TRUE)\n",
    "adata <- readH5AD(data)\n",
    "adata"
   ],
   "id": "dca97862f7452379",
   "outputs": [],
   "execution_count": null
  },
  {
   "metadata": {},
   "cell_type": "code",
   "outputs": [],
   "execution_count": null,
   "source": [
    "# Rename the cell type column to match Garnett's expected format\n",
    "if (celltype_column != \"cell_type\") {\n",
    "    # Remove any existing cell_type column if it exists\n",
    "    if (\"cell_type\" %in% colnames(colData(adata))) {\n",
    "        colData(adata)$cell_type <- NULL\n",
    "    }\n",
    "    colnames(colData(adata))[colnames(colData(adata)) == celltype_column] <- \"cell_type\"\n",
    "}"
   ],
   "id": "e68c13f949243246"
  },
  {
   "metadata": {},
   "cell_type": "code",
   "source": [
    "gene_meta = as.data.frame(rowData(adata))\n",
    "if (!(\"gene_short_name\" %in% colnames(gene_meta))) {\n",
    "    gene_meta$gene_short_name <- rownames(gene_meta)\n",
    "}\n",
    "cds <- new_cell_data_set(\n",
    "    expression_data = assays(adata)$X,\n",
    "    cell_metadata = as.data.frame(colData(adata)),\n",
    "    gene_metadata = gene_meta\n",
    ")\n",
    "head(cds)"
   ],
   "id": "24365c8069af717f",
   "outputs": [],
   "execution_count": null
  },
  {
   "metadata": {},
   "cell_type": "markdown",
   "source": "Evaluate the marker list",
   "id": "c8f8d2ddd61181eb"
  },
  {
   "metadata": {},
   "cell_type": "code",
   "source": [
    "checked <- check_markers(\n",
    "    cds,\n",
    "    marker_file = marker.list,\n",
    "    db=gene_db,\n",
    "    cds_gene_id_type = \"SYMBOL\",\n",
    "    marker_file_gene_id_type = \"SYMBOL\"\n",
    ")\n",
    "plot_markers(checked)"
   ],
   "id": "2fc7df84e994e45c",
   "outputs": [],
   "execution_count": null
  },
  {
   "metadata": {},
   "cell_type": "markdown",
   "source": "Train the Garnett classifier using the marker list",
   "id": "305c5f9fa325e5f9"
  },
  {
   "metadata": {},
   "cell_type": "code",
   "source": [
    "new_classifier <- train_cell_classifier(\n",
    "    cds,\n",
    "    marker_file = marker.list,\n",
    "    db = gene_db,\n",
    "    cds_gene_id_type = \"SYMBOL\",\n",
    "    marker_file_gene_id_type = \"SYMBOL\"\n",
    ")\n",
    "new_classifier"
   ],
   "id": "a89df966117e6b35",
   "outputs": [],
   "execution_count": null
  },
  {
   "metadata": {},
   "cell_type": "code",
   "source": [
    "feature_genes <- get_feature_genes(new_classifier,\n",
    "                                   node = \"root\",\n",
    "                                   db = gene_db)\n",
    "feature_genes"
   ],
   "id": "86940c7c29fb0d7d",
   "outputs": [],
   "execution_count": null
  },
  {
   "metadata": {},
   "cell_type": "markdown",
   "source": "Save the classifier to a RDS file",
   "id": "f596313e30c1d4a1"
  },
  {
   "metadata": {},
   "cell_type": "code",
   "source": "saveRDS(new_classifier, file = output_file)",
   "id": "3525ae6960c670a6",
   "outputs": [],
   "execution_count": null
  },
  {
   "metadata": {},
   "cell_type": "markdown",
   "source": "Session Information",
   "id": "a280112e201c19e2"
  },
  {
   "metadata": {},
   "cell_type": "code",
   "source": "sessionInfo()",
   "id": "8912d82dc5a19e60",
   "outputs": [],
   "execution_count": null
  }
 ],
 "metadata": {
  "kernelspec": {
   "display_name": "R",
   "language": "R",
   "name": "ir"
  },
  "language_info": {
   "codemirror_mode": {
    "name": "ipython",
    "version": 2
   },
   "file_extension": ".py",
   "mimetype": "text/x-python",
   "name": "python",
   "nbconvert_exporter": "python",
   "pygments_lexer": "ipython2",
   "version": "2.7.6"
  }
 },
 "nbformat": 4,
 "nbformat_minor": 5
}
