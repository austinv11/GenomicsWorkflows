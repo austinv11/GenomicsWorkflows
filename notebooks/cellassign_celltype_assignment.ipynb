{
 "cells": [
  {
   "metadata": {},
   "cell_type": "markdown",
   "source": "# CellAssign Cell Type Assignment",
   "id": "cce6178aeae4e00a"
  },
  {
   "metadata": {},
   "cell_type": "markdown",
   "source": "Load the data",
   "id": "160408e08e4ae0f4"
  },
  {
   "metadata": {},
   "cell_type": "code",
   "outputs": [],
   "execution_count": null,
   "source": [
    "import os\n",
    "\n",
    "marker_list = os.getenv(\"SNAKEMAKE_MARKER_LIST\")\n",
    "if not os.path.exists(marker_list):\n",
    "    raise FileNotFoundError(f\"Marker list file does not exist: {marker_list}\")\n",
    "data = os.getenv(\"SNAKEMAKE_H5AD_INPUT\")\n",
    "if not os.path.exists(data):\n",
    "    raise FileNotFoundError(f\"Input data file does not exist: {data}\")\n",
    "output_file = os.getenv(\"SNAKEMAKE_OUTPUT_FILE\")  # Output csv mapping barcodes to cell type data\n",
    "n_gpus = int(os.getenv(\"SNAKEMAKE_NUM_GPUS\", \"0\"))  # Number of GPUs to use, default is 0 (CPU only)\n",
    "\n",
    "print(f\"Marker list file: {marker_list}\")\n",
    "print(f\"Input data file: {data}\")\n",
    "print(f\"Output file: {output_file}\")\n",
    "print(f\"Number of GPUs: {n_gpus}\")"
   ],
   "id": "c3fc9dcf52e1e4a7"
  },
  {
   "metadata": {},
   "cell_type": "code",
   "outputs": [],
   "execution_count": null,
   "source": [
    "import scanpy as sc\n",
    "adata = sc.read_h5ad(data)\n",
    "adata"
   ],
   "id": "1996e015b56986ac"
  },
  {
   "metadata": {},
   "cell_type": "code",
   "outputs": [],
   "execution_count": null,
   "source": [
    "import pandas as pd\n",
    "marker_df = pd.read_csv(marker_list, index_col=0)\n",
    "# Add an unassigned cell type\n",
    "marker_df['Unassigned'] = 0\n",
    "marker_df"
   ],
   "id": "85fbc0531ef35c0c"
  },
  {
   "metadata": {},
   "cell_type": "markdown",
   "source": "Performing cell type assignment",
   "id": "f63e96736d6e1d61"
  },
  {
   "cell_type": "code",
   "execution_count": null,
   "id": "initial_id",
   "metadata": {
    "collapsed": true
   },
   "outputs": [],
   "source": [
    "import scvi\n",
    "from scvi.external import CellAssign\n",
    "scvi.settings.seed = 0\n",
    "print(\"Last run with scvi-tools version:\", scvi.__version__)"
   ]
  },
  {
   "metadata": {},
   "cell_type": "code",
   "outputs": [],
   "execution_count": null,
   "source": [
    "import numpy as np\n",
    "# Strip genes not in the marker list\n",
    "bdata = adata[:, adata.var_names.isin(marker_df.index.values)].copy()\n",
    "marker_df = marker_df.loc[bdata.var_names]\n",
    "\n",
    "lib_size = bdata.X.sum(1)\n",
    "bdata.obs[\"size_factor\"] = lib_size / np.mean(lib_size)\n",
    "bdata"
   ],
   "id": "9069e55a0cc93c7a"
  },
  {
   "metadata": {},
   "cell_type": "code",
   "outputs": [],
   "execution_count": null,
   "source": [
    "CellAssign.setup_anndata(bdata, size_factor_key=\"size_factor\")\n",
    "bdata"
   ],
   "id": "24bf38fd7f139c61"
  },
  {
   "metadata": {},
   "cell_type": "code",
   "outputs": [],
   "execution_count": null,
   "source": [
    "model = CellAssign(bdata, marker_df)\n",
    "model.train(\n",
    "    accelerator='cpu' if n_gpus == 0 else 'auto',\n",
    ")"
   ],
   "id": "97ea9515439f90b9"
  },
  {
   "metadata": {},
   "cell_type": "code",
   "outputs": [],
   "execution_count": null,
   "source": "model.history['elbo_validation'].plot()",
   "id": "1fb0cc98c9886d87"
  },
  {
   "metadata": {},
   "cell_type": "markdown",
   "source": "Extract assignments",
   "id": "cc0aa108bf849456"
  },
  {
   "metadata": {},
   "cell_type": "code",
   "outputs": [],
   "execution_count": null,
   "source": [
    "predictions = model.predict()\n",
    "predictions.head()"
   ],
   "id": "75f0d15dabb90032"
  },
  {
   "metadata": {},
   "cell_type": "code",
   "outputs": [],
   "execution_count": null,
   "source": [
    "import seaborn as sns\n",
    "import matplotlib.pyplot as plt\n",
    "# sns.clustermap(predictions, cmap=\"viridis\")  Skip because this is too large most of the time"
   ],
   "id": "f6e60758545acb6d"
  },
  {
   "metadata": {},
   "cell_type": "code",
   "outputs": [],
   "execution_count": null,
   "source": [
    "# Initial cell type assignments\n",
    "THRESHOLD = 0.9\n",
    "max_idx = predictions.idxmax(axis=1)\n",
    "max_prob = predictions.max(axis=1)\n",
    "predictions['cell_type'] = np.where(max_prob >= THRESHOLD, max_idx, 'Unassigned')\n",
    "predictions['cell'] = adata.obs.index.values\n",
    "predictions = predictions.reset_index(drop=True).set_index('cell')"
   ],
   "id": "a3d9743316901801"
  },
  {
   "metadata": {},
   "cell_type": "markdown",
   "source": "Initial predictions completed. We will now refine uncertain assignments by clustering the data and reassigning uncertain cells based on cluster consensus.",
   "id": "94d3e1319a0d42da"
  },
  {
   "metadata": {},
   "cell_type": "code",
   "outputs": [],
   "execution_count": null,
   "source": [
    "# The prepared anndata should already have a cluster key in obs\n",
    "cluster_key=\"leiden\"\n",
    "\n",
    "for cluster in adata.obs[cluster_key].unique():\n",
    "    clustered_cells = adata[adata.obs[cluster_key] == cluster].obs.index.values\n",
    "    # If none are unassigned, skip\n",
    "    if not predictions.loc[clustered_cells, 'cell_type'].eq('Unassigned').any():\n",
    "        continue\n",
    "    # Make a plot showing the average probabilities for the cluster\n",
    "    cluster_predictions = predictions.loc[clustered_cells].drop('cell_type', axis=1)\n",
    "    cluster_avg = cluster_predictions.mean(axis=0)\n",
    "    # Add a bar plot of the average probabilities with a horizontal line at the threshold\n",
    "    plt.figure(figsize=(10, 5))\n",
    "    sns.barplot(x=cluster_avg.index, y=cluster_avg.values)\n",
    "    plt.axhline(y=THRESHOLD, color='r', linestyle='--', label='Threshold')\n",
    "    plt.title(f'Cluster {cluster} Mean Probabilities')\n",
    "    plt.xlabel('Cell Type')\n",
    "    plt.ylabel('Average Probability')\n",
    "    plt.xticks(rotation=90)\n",
    "    plt.legend()\n",
    "    plt.show()\n",
    "    plt.clf()\n",
    "\n",
    "    # Select the cell type that is most confident in the cluster\n",
    "    most_confident_type = cluster_avg.idxmax()\n",
    "    most_confident_prob = cluster_avg.max()\n",
    "    print(f\"Cluster {cluster}: Most confident type is {most_confident_type} with mean probability {most_confident_prob:.2f}\")\n",
    "    # Reassign unassigned cells in the cluster to the most confident type\n",
    "    predictions.loc[clustered_cells, 'cell_type'] = np.where(\n",
    "        predictions.loc[clustered_cells, 'cell_type'] == 'Unassigned',\n",
    "        most_confident_type,\n",
    "        predictions.loc[clustered_cells, 'cell_type']\n",
    "    )"
   ],
   "id": "56cae0e6a714f442"
  },
  {
   "metadata": {},
   "cell_type": "code",
   "outputs": [],
   "execution_count": null,
   "source": [
    "# Plot the distribution of cell types\n",
    "sns.countplot(data=predictions, x='cell_type', order=predictions['cell_type'].value_counts().index)\n",
    "plt.xticks(rotation=90)\n",
    "plt.show()"
   ],
   "id": "fce69beb08da1446"
  },
  {
   "metadata": {},
   "cell_type": "code",
   "outputs": [],
   "execution_count": null,
   "source": "predictions['cell_type'].value_counts()",
   "id": "43e13b65c7a57109"
  },
  {
   "metadata": {},
   "cell_type": "markdown",
   "source": "",
   "id": "a25e4c5fb1261340"
  },
  {
   "metadata": {},
   "cell_type": "markdown",
   "source": "Plot a umap of the cell type assignments (The umap should be precomputed in the adata object)",
   "id": "ec0c53b7a6c6eab8"
  },
  {
   "metadata": {},
   "cell_type": "code",
   "outputs": [],
   "execution_count": null,
   "source": [
    "adata.obs['cell_type'] = predictions['cell_type'].values\n",
    "sc.pl.umap(adata, color='cell_type', frameon=False, legend_loc='on data', title='Cell Type Assignments', size=20, wspace=0.4)"
   ],
   "id": "ff969d3caa5e0fde"
  },
  {
   "metadata": {},
   "cell_type": "markdown",
   "source": "Save the results",
   "id": "c5f194e312a68843"
  },
  {
   "metadata": {},
   "cell_type": "code",
   "outputs": [],
   "execution_count": null,
   "source": "predictions.to_csv(output_file, index=True)",
   "id": "e4f99f97621be84e"
  }
 ],
 "metadata": {
  "kernelspec": {
   "display_name": "Python 3",
   "language": "python",
   "name": "python3"
  },
  "language_info": {
   "codemirror_mode": {
    "name": "ipython",
    "version": 2
   },
   "file_extension": ".py",
   "mimetype": "text/x-python",
   "name": "python",
   "nbconvert_exporter": "python",
   "pygments_lexer": "ipython2",
   "version": "2.7.6"
  }
 },
 "nbformat": 4,
 "nbformat_minor": 5
}
