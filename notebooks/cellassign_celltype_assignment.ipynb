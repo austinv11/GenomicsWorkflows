{
 "cells": [
  {
   "metadata": {},
   "cell_type": "markdown",
   "source": "# CellAssign Cell Type Assignment",
   "id": "cce6178aeae4e00a"
  },
  {
   "metadata": {},
   "cell_type": "markdown",
   "source": "Load the data",
   "id": "160408e08e4ae0f4"
  },
  {
   "metadata": {},
   "cell_type": "code",
   "outputs": [],
   "execution_count": null,
   "source": [
    "import os\n",
    "\n",
    "marker_list = os.getenv(\"SNAKEMAKE_MARKER_LIST\")\n",
    "if not os.path.exists(marker_list):\n",
    "    raise FileNotFoundError(f\"Marker list file does not exist: {marker_list}\")\n",
    "data = os.getenv(\"SNAKEMAKE_H5AD_INPUT\")\n",
    "if not os.path.exists(data):\n",
    "    raise FileNotFoundError(f\"Input data file does not exist: {data}\")\n",
    "output_file = os.getenv(\"SNAKEMAKE_OUTPUT_FILE\")  # Output csv mapping barcodes to cell type data\n",
    "n_gpus = int(os.getenv(\"SNAKEMAKE_NUM_GPUS\", \"0\"))  # Number of GPUs to use, default is 0 (CPU only)\n",
    "\n",
    "print(f\"Marker list file: {marker_list}\")\n",
    "print(f\"Input data file: {data}\")\n",
    "print(f\"Output file: {output_file}\")\n",
    "print(f\"Number of GPUs: {n_gpus}\")"
   ],
   "id": "c3fc9dcf52e1e4a7"
  },
  {
   "metadata": {},
   "cell_type": "code",
   "outputs": [],
   "execution_count": null,
   "source": [
    "import scanpy as sc\n",
    "adata = sc.read_h5ad(data)\n",
    "adata"
   ],
   "id": "1996e015b56986ac"
  },
  {
   "metadata": {},
   "cell_type": "code",
   "outputs": [],
   "execution_count": null,
   "source": [
    "import pandas as pd\n",
    "marker_df = pd.read_csv(marker_list, index_col=0)\n",
    "# Add an unassigned cell type\n",
    "marker_df['Unassigned'] = 0\n",
    "marker_df"
   ],
   "id": "85fbc0531ef35c0c"
  },
  {
   "metadata": {},
   "cell_type": "markdown",
   "source": "Performing cell type assignment",
   "id": "f63e96736d6e1d61"
  },
  {
   "cell_type": "code",
   "execution_count": null,
   "id": "initial_id",
   "metadata": {
    "collapsed": true
   },
   "outputs": [],
   "source": [
    "import scvi\n",
    "from scvi.external import CellAssign\n",
    "scvi.settings.seed = 0\n",
    "print(\"Last run with scvi-tools version:\", scvi.__version__)"
   ]
  },
  {
   "metadata": {},
   "cell_type": "code",
   "outputs": [],
   "execution_count": null,
   "source": [
    "import numpy as np\n",
    "lib_size = adata.X.sum(1)\n",
    "adata.obs[\"size_factor\"] = lib_size / np.mean(lib_size)\n",
    "# Strip genes not in the marker list\n",
    "bdata = adata[:, adata.var_names.isin(marker_df['gene'])].copy()\n",
    "bdata"
   ],
   "id": "9069e55a0cc93c7a"
  },
  {
   "metadata": {},
   "cell_type": "code",
   "outputs": [],
   "execution_count": null,
   "source": [
    "CellAssign.setup_anndata(bdata, size_factor_key=\"size_factor\")\n",
    "bdata"
   ],
   "id": "24bf38fd7f139c61"
  },
  {
   "metadata": {},
   "cell_type": "code",
   "outputs": [],
   "execution_count": null,
   "source": [
    "model = CellAssign(bdata, marker_df)\n",
    "model.train(\n",
    "    use_gpu=False if n_gpus == 0 else n_gpus,\n",
    ")"
   ],
   "id": "97ea9515439f90b9"
  },
  {
   "metadata": {},
   "cell_type": "code",
   "outputs": [],
   "execution_count": null,
   "source": "model.history['elbo_validation'].plot()",
   "id": "1fb0cc98c9886d87"
  },
  {
   "metadata": {},
   "cell_type": "markdown",
   "source": "Extract assignments",
   "id": "cc0aa108bf849456"
  },
  {
   "metadata": {},
   "cell_type": "code",
   "outputs": [],
   "execution_count": null,
   "source": [
    "predictions = model.predict()\n",
    "predictions.head()"
   ],
   "id": "75f0d15dabb90032"
  },
  {
   "metadata": {},
   "cell_type": "code",
   "outputs": [],
   "execution_count": null,
   "source": [
    "import seaborn as sns\n",
    "sns.clustermap(predictions, cmap=\"viridis\")"
   ],
   "id": "f6e60758545acb6d"
  },
  {
   "metadata": {},
   "cell_type": "code",
   "outputs": [],
   "execution_count": null,
   "source": [
    "predictions['cell_type'] = predictions.idxmax(axis=1)\n",
    "sns.barplot(x=\"cell_type\", y=\"size_factor\", data=predictions)"
   ],
   "id": "fce69beb08da1446"
  },
  {
   "metadata": {},
   "cell_type": "code",
   "outputs": [],
   "execution_count": null,
   "source": "predictions['cell_type'].value_counts()",
   "id": "43e13b65c7a57109"
  },
  {
   "metadata": {},
   "cell_type": "markdown",
   "source": "Save the results",
   "id": "c5f194e312a68843"
  },
  {
   "metadata": {},
   "cell_type": "code",
   "outputs": [],
   "execution_count": null,
   "source": "predictions.to_csv(output_file, index=True)",
   "id": "e4f99f97621be84e"
  }
 ],
 "metadata": {
  "kernelspec": {
   "display_name": "Python 3",
   "language": "python",
   "name": "python3"
  },
  "language_info": {
   "codemirror_mode": {
    "name": "ipython",
    "version": 2
   },
   "file_extension": ".py",
   "mimetype": "text/x-python",
   "name": "python",
   "nbconvert_exporter": "python",
   "pygments_lexer": "ipython2",
   "version": "2.7.6"
  }
 },
 "nbformat": 4,
 "nbformat_minor": 5
}
