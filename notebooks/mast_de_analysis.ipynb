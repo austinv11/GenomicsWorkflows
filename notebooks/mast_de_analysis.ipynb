{
 "cells": [
  {
   "metadata": {},
   "cell_type": "markdown",
   "source": [
    "# DEG Analysis using MAST\n",
    "We will use the MAST R package to perform differential expression analysis on single-cell data. This is based on the best practices outlined [here](https://www.sc-best-practices.org/conditions/differential_gene_expression.html)."
   ],
   "id": "70f905c89941fea3"
  },
  {
   "cell_type": "code",
   "execution_count": null,
   "id": "initial_id",
   "metadata": {
    "collapsed": true
   },
   "outputs": [],
   "source": [
    "input_file <- Sys.getenv(\"SNAKEMAKE_H5AD_INPUT\")  # Input h5ad file\n",
    "obs_group <- Sys.getenv(\"SNAKEMAKE_GROUP_OBS\")  # Observations to group by\n",
    "output_file <- Sys.getenv(\"SNAKEMAKE_OUTPUT_FILE\")  # Output spreadsheet file\n",
    "comparison <- Sys.getenv(\"SNAKEMAKE_COMPARISON\")  # Comparison to perform, e.g., \"condition1_VS_condition2&condition3\n",
    "threads <- as.integer(Sys.getenv(\"SNAKEMAKE_NUM_THREADS\", \"1\"))  # Number of threads to use\n",
    "covariate_columns <- Sys.getenv(\"SNAKEMAKE_COVARIATES\", \"\")  # Column in adata with sample information\n",
    "\n",
    "# Check that the file exists\n",
    "if (!file.exists(input_file)) {\n",
    "  stop(paste(\"Input file does not exist:\", input_file))\n",
    "}\n",
    "\n",
    "library(BiocParallel)\n",
    "register(MulticoreParam(workers = threads), default = TRUE)\n",
    "options(mc.cores = threads)  # Set the number of threads for parallel processing\n",
    "Sys.setenv(OMP_NUM_THREADS = 1, MKL_NUM_THREADS = 1)\n",
    "\n",
    "cat(paste(\"Input file:\", input_file, \"\\n\"))\n",
    "cat(paste(\"Observations to group by:\", obs_group, \"\\n\"))\n",
    "cat(paste(\"Output file:\", output_file, \"\\n\"))\n",
    "cat(paste(\"Comparison:\", comparison, \"\\n\"))\n",
    "cat(paste(\"Number of threads:\", threads, \"\\n\"))\n",
    "cat(paste(\"Covariate columns:\", covariate_columns, \"\\n\"))"
   ]
  },
  {
   "metadata": {},
   "cell_type": "code",
   "outputs": [],
   "execution_count": null,
   "source": [
    "# Load the input data as a SingleCellExperiment object\n",
    "library(zellkonverter)\n",
    "setZellkonverterVerbose(TRUE)\n",
    "adata <- readH5AD(input_file)\n",
    "adata"
   ],
   "id": "4e8150ab534c386b"
  },
  {
   "metadata": {},
   "cell_type": "markdown",
   "source": "Prepare our data for MAST",
   "id": "69ede967f35e3394"
  },
  {
   "metadata": {},
   "cell_type": "code",
   "outputs": [],
   "execution_count": null,
   "source": [
    "# Move the assay to the \"counts\" slot\n",
    "library(SingleCellExperiment)\n",
    "counts(adata) <- assay(adata, \"X\")\n",
    "# We now need to normalize and log-transform the data\n",
    "library(scuttle)\n",
    "adata <- logNormCounts(adata, exprs_values = \"counts\", log = TRUE)\n",
    "\n",
    "# Filter genes that are not expressed in at least 3 cells\n",
    "expressed_in_cells <- rowSums(counts(adata) > 0)\n",
    "adata <- adata[expressed_in_cells >= 3, ]"
   ],
   "id": "ea58c17062d2ff01"
  },
  {
   "metadata": {},
   "cell_type": "markdown",
   "source": "# Parse the comparisons and filter out cells not in either group",
   "id": "bccba81bce1eb5ba"
  },
  {
   "metadata": {},
   "cell_type": "code",
   "outputs": [],
   "execution_count": null,
   "source": [
    "get_group_list <- function(adata, comparison_string, exclude = NULL) {\n",
    "    if (is.null(comparison_string) || comparison_string == \"\") {\n",
    "        stop(\"Comparison string is empty or NULL.\")\n",
    "    }\n",
    "    if (comparison_string == \"rest\") {\n",
    "        # Select all groups except the excluded ones\n",
    "        if (is.null(exclude)) {\n",
    "            stop(\"Exclude parameter must be provided when comparison is 'rest'.\")\n",
    "        }\n",
    "        groups <- unique(colData(adata)[[obs_group]])\n",
    "        selected_groups <- setdiff(groups, exclude)\n",
    "    } else {\n",
    "        # Split the comparison string by \"&\" to get the groups\n",
    "        selected_groups <- unlist(strsplit(comparison_string, \"&\"))\n",
    "    }\n",
    "    return(selected_groups)\n",
    "}\n",
    "\n",
    "# Get the groups for the comparison\n",
    "split_comparison <- unlist(strsplit(comparison, \"_VS_\"))\n",
    "ref_string <- split_comparison[1]\n",
    "test_string <- split_comparison[2]\n",
    "\n",
    "# Get the groups for the reference and test\n",
    "ref_groups <- get_group_list(adata, ref_string)\n",
    "test_groups <- get_group_list(adata, test_string, exclude = ref_groups)\n",
    "cat(\"Using reference groups:\", paste(ref_groups, collapse = \", \"), \"\\n\")\n",
    "cat(\"Using test groups:\", paste(test_groups, collapse = \", \"), \"\\n\")\n",
    "# Filter the data to only include cells in the reference and test groups\n",
    "if (length(ref_groups) == 0 || length(test_groups) == 0) {\n",
    "    stop(\"No valid groups found for the comparison.\")\n",
    "}\n",
    "adata <- adata[, colData(adata)[[obs_group]] %in% c(ref_groups, test_groups)]\n",
    "adata"
   ],
   "id": "ea23eca5b5870d1"
  },
  {
   "metadata": {},
   "cell_type": "code",
   "outputs": [],
   "execution_count": null,
   "source": [
    "# Create a new column in colData to indicate the group\n",
    "colData(adata)$group <- ifelse(colData(adata)[[obs_group]] %in% ref_groups, \"reference\", \"test\")"
   ],
   "id": "4f26bb5725de3624"
  },
  {
   "metadata": {},
   "cell_type": "markdown",
   "source": "Perform MAST analysis",
   "id": "927f3504601b1f73"
  },
  {
   "metadata": {},
   "cell_type": "code",
   "outputs": [],
   "execution_count": null,
   "source": [
    "library(MAST)\n",
    "# Create the MAST object\n",
    "sca <- SceToSingleCellAssay(adata, class = \"SingleCellAssay\")\n",
    "# Remove genes that are not expressed in at least 10% of the cells\n",
    "sca <- sca[freq(sca) > 0.1, ]\n",
    "cat(\"Filtered SCA shape:\", dim(sca), \"\\n\")\n",
    "# Compute ngeneson\n",
    "colData(sca)$ngeneson <- scale(colSums(assay(sca)>0))\n",
    "# Convert group to a factor\n",
    "colData(sca)$group <- factor(colData(sca)$group, levels = c(\"reference\", \"test\"))\n",
    "# Do the same for any covariates\n",
    "covariate_columns <- unlist(strsplit(covariate_columns, \",\"))\n",
    "for (covariate in covariate_columns) {\n",
    "    if (covariate %in% colnames(colData(sca))) {\n",
    "        colData(sca)[[covariate]] <- factor(colData(sca)[[covariate]])\n",
    "    } else {\n",
    "        warning(paste(\"Covariate column\", covariate, \"not found in colData. Skipping.\"))\n",
    "    }\n",
    "}\n",
    "# Dynamically generate the formula for the model\n",
    "# I.e. ~ group + ngeneson + (1 | covariate1) + (1 | covariate2) + ...\n",
    "zlm_formula <- as.formula(paste(\"~ group + ngeneson\",\n",
    "                              paste(paste0(\"(1 | \", covariate_columns, \")\"), collapse = \" + \")))\n",
    "# Generate the model\n",
    "zlm_model <- zlm(\n",
    "    formula = zlm_formula,\n",
    "    sca=sca,\n",
    "    method='glmer',\n",
    "    ebayes=FALSE,\n",
    "    strictConvergence=FALSE,\n",
    "    fitArgsD=list(nAGQ=0),\n",
    "    parallel=TRUE\n",
    ")\n",
    "# Select the ref vs test comparison with ref being the baseline\n",
    "zlm_comparison <- summary(zlm_model, doLRT = \"grouptest\", parallel = TRUE)\n",
    "# Extract the results\n",
    "zlm_results <- zlm_comparison$datatable\n",
    "# Reformat and filter to relevant columns\n",
    "zlm_results <- merge(zlm_results[contrast=='grouptest' & component=='H',.(primerid, `Pr(>Chisq)`)], # p-values\n",
    "                 zlm_results[contrast=='grouptest' & component=='logFC', .(primerid, coef, ci.hi, ci.lo)],\n",
    "                 by='primerid') # logFC coefficients\n",
    "\n",
    "# Convert logfc to log2 scale\n",
    "zlm_results[,coef:=zlm_results[,coef]/log(2)]\n",
    "# Perform multiple testing correction\n",
    "zlm_results[,fdr:=p.adjust(`Pr(>Chisq)`, 'fdr')]\n",
    "setorder(zlm_results, fdr)\n",
    "# fixNAs that can sometimes be generated\n",
    "fixNA = (is.na(zlm_results$coef) & zlm_results[, `Pr(>Chisq)`] < 1)\n",
    "coefRange <- range(zlm_results$coef, na.rm = TRUE)\n",
    "geneOrder = sapply(zlm_results$primerid, function(gene) {\n",
    "    which(rownames(sca) == gene)\n",
    "})\n",
    "fracIn <- apply(assay(sca)[geneOrder, group == \"ref\"], 1, sum)/sum(sca$group == \"ref\")\n",
    "fracOut <- apply(assay(sca)[geneOrder, group == \"test\"], 1, sum)/sum(sca$group == \"test\")\n",
    "zlm_results[fixNA & facIn <= fracOut, \"coef\"] = coefRange[1]\n",
    "zlm_results[fixNA & fracIn > fracOut, \"coef\"] = coefRange[2]\n",
    "zlm_results"
   ],
   "id": "e745f7550574f97f"
  },
  {
   "metadata": {},
   "cell_type": "markdown",
   "source": "Export the results",
   "id": "d4073ac6682d8ce1"
  },
  {
   "metadata": {},
   "cell_type": "code",
   "outputs": [],
   "execution_count": null,
   "source": [
    "# Write the results to a file\n",
    "write.csv(\n",
    "    zlm_results,\n",
    "    file = output_file,\n",
    ")"
   ],
   "id": "ac083d4b8d68cbed"
  },
  {
   "metadata": {},
   "cell_type": "markdown",
   "source": "Session Info",
   "id": "cd26a52444a2e70a"
  },
  {
   "metadata": {},
   "cell_type": "code",
   "outputs": [],
   "execution_count": null,
   "source": "sessionInfo()",
   "id": "832e08df34c1aca1"
  }
 ],
 "metadata": {
  "kernelspec": {
   "display_name": "R",
   "language": "R",
   "name": "ir"
  },
  "language_info": {
   "codemirror_mode": {
    "name": "ipython",
    "version": 2
   },
   "file_extension": ".r",
   "mimetype": "text/x-r-source",
   "name": "R",
   "nbconvert_exporter": "html",
   "pygments_lexer": "r",
   "version": "2.7.6"
  }
 },
 "nbformat": 4,
 "nbformat_minor": 5
}
