{
 "cells": [
  {
   "metadata": {},
   "cell_type": "markdown",
   "source": "# Cell Type Assignment with Garnett",
   "id": "5c24274b70a7bdb8"
  },
  {
   "metadata": {},
   "cell_type": "markdown",
   "source": "Garnett performs hierarchical cell type assignment, information can be found here: https://cole-trapnell-lab.github.io/garnett/docs_m3/",
   "id": "d02d48d29f9d8b63"
  },
  {
   "metadata": {
    "ExecuteTime": {
     "end_time": "2025-06-02T14:44:13.438990Z",
     "start_time": "2025-06-02T14:44:13.308722Z"
    }
   },
   "cell_type": "code",
   "source": [
    "# Get environment variables\n",
    "classifier <- Sys.getenv(\"SNAKEMAKE_CLASSIFIER\")\n",
    "data <- Sys.getenv(\"SNAKEMAKE_H5AD_INPUT\")\n",
    "output_file <- Sys.getenv(\"SNAKEMAKE_OUTPUT_FILE\")  # Output csv mapping barcodes to cell type data\n",
    "organsim <- Sys.getenv(\"SNAKEMAKE_ORGANISM\")  # Must be either \"human\" or \"mouse\"\n",
    "# Check that the file exists\n",
    "if (!file.exists(classifier)) {\n",
    "  stop(paste(\"Classifier file does not exist:\", classifier))\n",
    "}\n",
    "\n",
    "if (!file.exists(data)) {\n",
    "  stop(paste(\"Input data file does not exist:\", data))\n",
    "}\n",
    "\n",
    "cat(paste(\"Classifier file:\", classifier, \"\\n\"))\n",
    "cat(paste(\"Input data file:\", data, \"\\n\"))\n",
    "cat(paste(\"Output file:\", output_file, \"\\n\"))\n",
    "cat(paste(\"Organism:\", organsim, \"\\n\"))"
   ],
   "id": "d8d17ff242b422a1",
   "outputs": [
    {
     "ename": "ERROR",
     "evalue": "Error: Marker list file does not exist: \n",
     "output_type": "error",
     "traceback": [
      "Error: Marker list file does not exist: \nTraceback:\n",
      "1. .handleSimpleError(function (cnd) \n . {\n .     watcher$capture_plot_and_output()\n .     cnd <- sanitize_call(cnd)\n .     watcher$push(cnd)\n .     switch(on_error, continue = invokeRestart(\"eval_continue\"), \n .         stop = invokeRestart(\"eval_stop\"), error = NULL)\n . }, \"Marker list file does not exist: \", base::quote(eval(expr, \n .     envir)))"
     ]
    }
   ],
   "execution_count": 1
  },
  {
   "cell_type": "code",
   "execution_count": null,
   "id": "initial_id",
   "metadata": {
    "collapsed": true
   },
   "outputs": [],
   "source": [
    "library(garnett)\n",
    "# Load the gene database according to the organism\n",
    "if (organsim == \"human\") {\n",
    "  gene_db <- require(org.Hs.eg.db)\n",
    "} else if (organsim == \"mouse\") {\n",
    "  gene_db <- require(org.Mm.eg.db)\n",
    "} else {\n",
    "  stop(\"Organism must be either 'human' or 'mouse'.\")\n",
    "}"
   ]
  },
  {
   "metadata": {},
   "cell_type": "markdown",
   "source": "Load the marker list and classifier",
   "id": "c41cd300c8d0ee0e"
  },
  {
   "metadata": {},
   "cell_type": "code",
   "outputs": [],
   "execution_count": null,
   "source": [
    "classifier <- readRDS(classifier)\n",
    "classifier"
   ],
   "id": "5695d79f3493d6ac"
  },
  {
   "metadata": {},
   "cell_type": "markdown",
   "source": "Load the single cell data as a SingleCellExperiment object and then convert to a cell_data_set (CDS) object",
   "id": "1f2be2a5c4472ff9"
  },
  {
   "metadata": {},
   "cell_type": "code",
   "outputs": [],
   "execution_count": null,
   "source": [
    "library(zellkonverter)\n",
    "setZellkonverterVerbose(TRUE)\n",
    "adata <- readH5AD(data)\n",
    "adata"
   ],
   "id": "dca97862f7452379"
  },
  {
   "metadata": {},
   "cell_type": "code",
   "outputs": [],
   "execution_count": null,
   "source": [
    "library(monocle3)\n",
    "gene_meta = as.data.frame(rowData(adata))\n",
    "if (!\"gene_short_name\" %in% colnames(gene_meta)) {\n",
    "    gene_meta$gene_short_name <- rownames(gene_meta)\n",
    "}\n",
    "cds <- new_cell_data_set(\n",
    "    expression_data = counts(adata),\n",
    "    cell_metadata = as.data.drame(colData(adata)),\n",
    "    gene_metadata = gene_meta\n",
    ")\n",
    "head(cds)"
   ],
   "id": "24365c8069af717f"
  },
  {
   "metadata": {},
   "cell_type": "markdown",
   "source": "Classify cells",
   "id": "c8f8d2ddd61181eb"
  },
  {
   "metadata": {},
   "cell_type": "code",
   "outputs": [],
   "execution_count": null,
   "source": [
    "cds <- classify_cells(\n",
    "    cds, classifier,\n",
    "    db = gene_db,\n",
    "    cluster_extend = TRUE,\n",
    "    cds_gene_id_type = \"SYMBOL\"\n",
    ")\n",
    "head(pData(cds))"
   ],
   "id": "2fc7df84e994e45c"
  },
  {
   "metadata": {},
   "cell_type": "code",
   "outputs": [],
   "execution_count": null,
   "source": "table(pData(cds)$cell_type)",
   "id": "ea45b5a930dd59a7"
  },
  {
   "metadata": {},
   "cell_type": "code",
   "outputs": [],
   "execution_count": null,
   "source": "table(pData(cds)$cluster_ext_type)",
   "id": "a89df966117e6b35"
  },
  {
   "metadata": {},
   "cell_type": "markdown",
   "source": "Save the cell type assignments to a CSV file",
   "id": "f596313e30c1d4a1"
  },
  {
   "metadata": {},
   "cell_type": "code",
   "outputs": [],
   "execution_count": null,
   "source": [
    "df <- pData(cds)[, c(\"garnett_cluster\", \"cell_type\", \"cluster_ext_type\")]\n",
    "df$barcode <- rownames(df)\n",
    "df"
   ],
   "id": "3525ae6960c670a6"
  },
  {
   "metadata": {},
   "cell_type": "code",
   "outputs": [],
   "execution_count": null,
   "source": [
    "write.csv(\n",
    "    df,\n",
    "    file = output_file,\n",
    "    row.names = FALSE,\n",
    ")"
   ],
   "id": "d877e17e983aa720"
  },
  {
   "metadata": {},
   "cell_type": "markdown",
   "source": "Session Information",
   "id": "a280112e201c19e2"
  },
  {
   "metadata": {},
   "cell_type": "code",
   "outputs": [],
   "execution_count": null,
   "source": "sessionInfo()",
   "id": "8912d82dc5a19e60"
  }
 ],
 "metadata": {
  "kernelspec": {
   "display_name": "R",
   "language": "R",
   "name": "ir"
  },
  "language_info": {
   "codemirror_mode": {
    "name": "ipython",
    "version": 2
   },
   "file_extension": ".py",
   "mimetype": "text/x-python",
   "name": "python",
   "nbconvert_exporter": "python",
   "pygments_lexer": "ipython2",
   "version": "2.7.6"
  }
 },
 "nbformat": 4,
 "nbformat_minor": 5
}
