{
 "cells": [
  {
   "metadata": {},
   "cell_type": "markdown",
   "source": "# Basic Pre-processing of 10X scRNA-seq data",
   "id": "d0dac9e0605a1e0c"
  },
  {
   "metadata": {},
   "cell_type": "markdown",
   "source": "Load the processed dataset from the snakemake pipeline",
   "id": "1bdada8123074ee6"
  },
  {
   "metadata": {},
   "cell_type": "code",
   "source": [
    "# Load params\n",
    "import os\n",
    "\n",
    "tenx_outdir = os.getenv(\"SNAKEMAKE_TENX_OUTPUT_DIR\")\n",
    "if tenx_outdir is None:\n",
    "    raise ValueError(\"SNAKEMAKE_TENX_OUTPUT_DIR environment variable is not set.\")\n",
    "outlier_threshold = os.getenv(\"SNAKEMAKE_OUTLIER_THRESHOLD\", \"5\")\n",
    "outlier_threshold = float(outlier_threshold)\n",
    "n_hvgs = os.getenv(\"SNAKEMAKE_N_HVGS\", \"5000\")\n",
    "n_hvgs = int(n_hvgs)\n",
    "processed_filename = os.getenv(\"SNAKEMAKE_PROCESSED_FILENAME\", \"processed_adata.h5ad\")\n",
    "print(\"Cellranger output directory:\", tenx_outdir)\n",
    "print(\"Outlier threshold:\", outlier_threshold)\n",
    "print(\"Number of highly variable genes to compute:\", n_hvgs)\n",
    "print(\"Processed filename:\", processed_filename)"
   ],
   "id": "initial_id",
   "outputs": [],
   "execution_count": null
  },
  {
   "metadata": {},
   "cell_type": "markdown",
   "source": "Convert into a `Scanpy` object",
   "id": "5963dd7249a023f9"
  },
  {
   "metadata": {},
   "cell_type": "code",
   "source": [
    "import scanpy as sc\n",
    "from glob import glob\n",
    "\n",
    "# Find the 10X output directory containing the `filtered_feature_bc_matrix` directory\n",
    "# Recursively search for the directory\n",
    "tenx_dirs = glob(os.path.join(tenx_outdir, \"**/filtered_feature_bc_matrix\"), recursive=True)\n",
    "\n",
    "if not tenx_dirs:\n",
    "    raise FileNotFoundError(\"No 10X output directory found with 'filtered_feature_bc_matrix'.\")\n",
    "\n",
    "if len(tenx_dirs) > 1:\n",
    "    print(\"Multiple 10X output directories found. Using the first one:\", tenx_dirs[0])\n",
    "else:\n",
    "    print(\"Using 10X output directory:\", tenx_dirs[0])\n",
    "\n",
    "\n",
    "adata = sc.read_10x_mtx(\n",
    "    tenx_dirs[0],\n",
    "    gex_only=False\n",
    ")\n",
    "\n",
    "print(\"Loaded AnnData object successfully.\")\n",
    "print(\"Shape: \", adata.shape)"
   ],
   "id": "198fa82524b278e6",
   "outputs": [],
   "execution_count": null
  },
  {
   "metadata": {},
   "cell_type": "markdown",
   "source": "# Perform basic QC analysis and filtering",
   "id": "34ec3937cb023da2"
  },
  {
   "metadata": {},
   "cell_type": "markdown",
   "source": "First, we will evaluate low-quality cells. Much of this is based on the [single-cell best practices workflow](https://www.sc-best-practices.org/preprocessing_visualization/quality_control.html).",
   "id": "6733f4884564d98d"
  },
  {
   "metadata": {},
   "cell_type": "code",
   "source": [
    "# mitochondrial genes\n",
    "adata.var[\"mt\"] = adata.var_names.str.startswith(\"MT-\")\n",
    "# ribosomal genes\n",
    "adata.var[\"ribo\"] = adata.var_names.str.startswith((\"RPS\", \"RPL\"))\n",
    "# hemoglobin genes.\n",
    "adata.var[\"hb\"] = adata.var_names.str.contains(\"^HB[^(P)]\")\n",
    "sc.pp.calculate_qc_metrics(\n",
    "    adata, qc_vars=[\"mt\", \"ribo\", \"hb\"], inplace=True, percent_top=[20], log1p=True\n",
    ")\n",
    "adata"
   ],
   "id": "aeda59c257d717f9",
   "outputs": [],
   "execution_count": null
  },
  {
   "metadata": {},
   "cell_type": "markdown",
   "source": "Evaluate and filter cells",
   "id": "6c8700fe0e21fd44"
  },
  {
   "metadata": {},
   "cell_type": "code",
   "source": [
    "import seaborn as sns\n",
    "import matplotlib.pyplot as plt\n",
    "\n",
    "sns.displot(adata.obs[\"total_counts\"], bins=100, kde=False)\n",
    "plt.xlabel(\"Total counts per cell\")\n",
    "plt.ylabel(\"Number of cells\")\n",
    "plt.title(\"Distribution of total counts per cell\")\n",
    "plt.show()"
   ],
   "id": "15d065ef529846a2",
   "outputs": [],
   "execution_count": null
  },
  {
   "metadata": {},
   "cell_type": "code",
   "source": [
    "fig, ax = plt.subplots()\n",
    "ax = sc.pl.violin(adata, [\"pct_counts_mt\", \"pct_counts_ribo\", \"pct_counts_hb\"], jitter=0.4, ax=ax, show=False)\n",
    "ax.set_ylabel(\"Percentage of counts\")\n",
    "ax.set_title(\"Percentage of counts in mitochondrial, ribosomal, and hemoglobin genes\")\n",
    "plt.show()"
   ],
   "id": "d9629436f3e3c11d",
   "outputs": [],
   "execution_count": null
  },
  {
   "metadata": {},
   "cell_type": "code",
   "source": [
    "fig, ax = plt.subplots()\n",
    "ax = sc.pl.scatter(adata, \"total_counts\", \"n_genes_by_counts\", color=\"pct_counts_mt\", show=False, ax=ax)\n",
    "ax.set_xlabel(\"Total counts per cell\")\n",
    "ax.set_ylabel(\"Number of genes per cell\")\n",
    "ax.set_title(\"Total counts vs. number of genes per cell\")\n",
    "plt.show()"
   ],
   "id": "606529939ee25e75",
   "outputs": [],
   "execution_count": null
  },
  {
   "metadata": {},
   "cell_type": "markdown",
   "source": "Compute median standard deviation (MAD): $MAD = \\text{median}(|x_i - \\text{median}(x)|)$ to automatically threshold outliers",
   "id": "89eca8b5d34bb36"
  },
  {
   "metadata": {},
   "cell_type": "code",
   "source": [
    "from scipy.stats import median_abs_deviation\n",
    "import numpy as np\n",
    "\n",
    "# Save a copy in .raw\n",
    "adata.raw = adata.copy()\n",
    "\n",
    "def evaluate_outlier(observations: np.ndarray, mad_threshold: int) -> np.ndarray:\n",
    "    \"\"\"\n",
    "    Evaluate outliers based on the median absolute deviation (MAD) method.\n",
    "    :param observations: The observations to evaluate.\n",
    "    :param mad_threshold: The number of standard deviations above which to consider an outlier.\n",
    "    :return: A boolean array indicating which observations are outliers.\n",
    "    \"\"\"\n",
    "    med = np.median(observations)\n",
    "    outlier = (observations < med - mad_threshold * median_abs_deviation(observations)) | (\n",
    "        med + mad_threshold * median_abs_deviation(observations) < observations\n",
    "    )\n",
    "    return outlier\n",
    "\n",
    "# Evaluate outliers\n",
    "adata.obs[\"outlier\"] = (\n",
    "    evaluate_outlier(adata.obs[\"log1p_total_counts\"], outlier_threshold)\n",
    "    | evaluate_outlier(adata.obs[\"log1p_n_genes_by_counts\"], outlier_threshold)\n",
    "    | evaluate_outlier(adata.obs[\"pct_counts_in_top_20_genes\"], outlier_threshold)\n",
    ")\n",
    "adata.obs.outlier.value_counts()"
   ],
   "id": "3913719bd06ab681",
   "outputs": [],
   "execution_count": null
  },
  {
   "metadata": {},
   "cell_type": "code",
   "source": [
    "# MT-outliers are slightly different\n",
    "adata.obs[\"mt_outlier\"] = evaluate_outlier(adata.obs[\"pct_counts_mt\"], outlier_threshold - 2) | (adata.obs['pct_counts_mt'] > 10)\n",
    "adata.obs.mt_outlier.value_counts()"
   ],
   "id": "a15639ba8d2dfa6e",
   "outputs": [],
   "execution_count": null
  },
  {
   "metadata": {},
   "cell_type": "code",
   "source": [
    "to_filter_out = adata.obs[\"outlier\"] | adata.obs[\"mt_outlier\"]\n",
    "print(\"Number of cells to filter out:\", to_filter_out.sum())\n",
    "print(\"Out of total cells:\", adata.shape[0])\n",
    "\n",
    "adata = adata[~to_filter_out].copy()\n",
    "adata"
   ],
   "id": "d9b1f9de6a71ec03",
   "outputs": [],
   "execution_count": null
  },
  {
   "metadata": {},
   "cell_type": "code",
   "source": [
    "fig, ax = plt.subplots()\n",
    "ax = sc.pl.scatter(adata, \"total_counts\", \"n_genes_by_counts\", color=\"pct_counts_mt\", show=False, ax=ax)\n",
    "ax.set_xlabel(\"Total counts per cell\")\n",
    "ax.set_ylabel(\"Number of genes per cell\")\n",
    "ax.set_title(\"Total counts vs. number of genes per cell (after filtering)\")\n",
    "plt.show()"
   ],
   "id": "4062de949e316c61",
   "outputs": [],
   "execution_count": null
  },
  {
   "metadata": {},
   "cell_type": "markdown",
   "source": "We have skipped ambient RNA removal and doublet detection since cellranger generally does well on its own and its hard to do autonomously.",
   "id": "e600415e3f9025d1"
  },
  {
   "metadata": {},
   "cell_type": "markdown",
   "source": "# Basic Pre-processing analysis",
   "id": "defa7b7b4d18312"
  },
  {
   "metadata": {},
   "cell_type": "markdown",
   "source": "We will call HVGs using the pearson-residual method which acts on raw counts",
   "id": "7cd37842dba09b9f"
  },
  {
   "metadata": {},
   "cell_type": "code",
   "source": [
    "sc.experimental.pp.highly_variable_genes(adata, n_top_genes=n_hvgs, flavor=\"pearson_residuals\", layer=None)\n",
    "\n",
    "print(\"Number of highly variable genes:\", adata.var[\"highly_variable\"].sum())"
   ],
   "id": "64e803f84e422d6f",
   "outputs": [],
   "execution_count": null
  },
  {
   "metadata": {},
   "cell_type": "markdown",
   "source": "Compute the number of PCs needed using the kneedle method",
   "id": "9a8cb3bed0b44ebb"
  },
  {
   "metadata": {},
   "cell_type": "code",
   "source": [
    "# Create a logX layer\n",
    "n_pcs = 100\n",
    "adata.layers[\"logX\"] = adata.X.copy()\n",
    "sc.pp.normalize_total(adata, target_sum=1e4, layer=\"logX\", inplace=True)\n",
    "sc.pp.log1p(adata, layer=\"logX\", copy=False)\n",
    "sc.pp.pca(adata, mask_var='highly_variable', layer=\"logX\", n_comps=n_pcs, svd_solver=\"arpack\")\n",
    "adata"
   ],
   "id": "d7bd61e5bc12592f",
   "outputs": [],
   "execution_count": null
  },
  {
   "metadata": {},
   "cell_type": "code",
   "source": [
    "var_ratio = adata.uns[\"pca\"][\"variance_ratio\"]\n",
    "cum_var = np.cumsum(var_ratio)\n",
    "cum_var"
   ],
   "id": "d31abf3416562a0",
   "outputs": [],
   "execution_count": null
  },
  {
   "metadata": {},
   "cell_type": "code",
   "source": [
    "from kneed import KneeLocator\n",
    "kl = KneeLocator(\n",
    "    range(1, len(cum_var) + 1),\n",
    "    cum_var,\n",
    "    curve=\"concave\",\n",
    "    direction=\"increasing\",\n",
    "    S=1.0,\n",
    ")\n",
    "if not kl.knee:\n",
    "    print(\"Warning: no knee point. Using all PCs.\")\n",
    "else:\n",
    "    n_pcs = int(kl.knee)\n",
    "    print(f\"Number of PCs to use: {n_pcs}\")"
   ],
   "id": "171eab200b7c2bcf",
   "outputs": [],
   "execution_count": null
  },
  {
   "metadata": {},
   "cell_type": "code",
   "source": [
    "# Plot the knee\n",
    "sc.pl.pca_variance_ratio(adata, log=True, show=False)\n",
    "ax = plt.gca()\n",
    "ax.axvline(n_pcs, color=\"red\", linestyle=\"--\", label=f\"n_pcs={n_pcs}\")\n",
    "ax.set_xlabel(\"Number of PCs\")\n",
    "ax.set_ylabel(\"Variance explained (log scale)\")\n",
    "ax.set_title(\"Variance explained by PCs (with knee point)\")\n",
    "plt.show()"
   ],
   "id": "b057b42335bdb3d0",
   "outputs": [],
   "execution_count": null
  },
  {
   "metadata": {},
   "cell_type": "markdown",
   "source": "# Finally, some basic clustering and visualization",
   "id": "e0eab29bcd334656"
  },
  {
   "metadata": {},
   "cell_type": "code",
   "source": [
    "sc.pp.neighbors(adata, n_pcs=n_pcs)\n",
    "sc.tl.umap(adata, min_dist=0.5, spread=1.0)\n",
    "sc.tl.leiden(adata, resolution=0.5)\n",
    "sc.pl.umap(adata, color=[\"leiden\", \"n_genes_by_counts\", \"total_counts\", \"pct_counts_mt\"], frameon=False, ncols=2)"
   ],
   "id": "85d9be6b6109e9db",
   "outputs": [],
   "execution_count": null
  },
  {
   "metadata": {},
   "cell_type": "markdown",
   "source": "# Saving the processed data",
   "id": "18504d45323b75c"
  },
  {
   "metadata": {},
   "cell_type": "code",
   "source": "adata.write(processed_filename, compression=\"gzip\")",
   "id": "e55abec16900247d",
   "outputs": [],
   "execution_count": null
  }
 ],
 "metadata": {
  "kernelspec": {
   "display_name": "Python 3",
   "language": "python",
   "name": "python3"
  },
  "language_info": {
   "codemirror_mode": {
    "name": "ipython",
    "version": 2
   },
   "file_extension": ".py",
   "mimetype": "text/x-python",
   "name": "python",
   "nbconvert_exporter": "python",
   "pygments_lexer": "ipython2",
   "version": "2.7.6"
  }
 },
 "nbformat": 4,
 "nbformat_minor": 5
}
