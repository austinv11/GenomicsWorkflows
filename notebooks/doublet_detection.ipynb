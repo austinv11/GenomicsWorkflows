{
 "cells": [
  {
   "metadata": {},
   "cell_type": "markdown",
   "source": "# Detect and remove doublets using scDblFinder",
   "id": "398e4d74de4039ae"
  },
  {
   "metadata": {
    "jupyter": {
     "is_executing": false
    }
   },
   "cell_type": "code",
   "source": [
    "# Load required libraries\n",
    "library(scDblFinder)\n",
    "library(BiocParallel)\n",
    "library(zellkonverter)"
   ],
   "id": "3bb1d4175ce7c28f",
   "outputs": [],
   "execution_count": null
  },
  {
   "metadata": {},
   "cell_type": "code",
   "outputs": [],
   "execution_count": null,
   "source": [
    "# Load environment variables for the input and output h5ad file paths\n",
    "input_h5ad <- Sys.getenv(\"SNAKEMAKE_INPUT_H5AD\")\n",
    "output_file <- Sys.getenv(\"SNAKEMAKE_OUTPUT_TABLE\")\n",
    "threads = as.integer(Sys.getenv(\"SNAKEMAKE_THREADS\", \"1\"))\n",
    "\n",
    "# Check if the input file exists\n",
    "if (!file.exists(input_h5ad)) {\n",
    "  stop(paste(\"Input file does not exist:\", input_h5ad))\n",
    "}\n",
    "\n",
    "# Print the paths\n",
    "cat(\"Input file:\", input_h5ad, \"\\n\")\n",
    "cat(\"Output file:\", output_h5ad, \"\\n\")\n",
    "cat(\"Number of threads:\", threads, \"\\n\")"
   ],
   "id": "f8fe0dffc7aac07c"
  },
  {
   "metadata": {},
   "cell_type": "code",
   "outputs": [],
   "execution_count": null,
   "source": [
    "# Load the AnnData object from the input\n",
    "setZellkonverterVerbose(TRUE)\n",
    "adata <- readH5AD(input_h5ad)"
   ],
   "id": "6ea886f75790d9c2"
  },
  {
   "metadata": {},
   "cell_type": "code",
   "outputs": [],
   "execution_count": null,
   "source": [
    "# Process the data\n",
    "set.seed(123)\n",
    "scores_df <- scDblFinder(\n",
    "    adata,\n",
    "    samples=\"sample\",\n",
    "    returnType=\"scores\",\n",
    "    BPPARAM=MulticoreParam(threads)\n",
    ")\n",
    "head(scores_df)"
   ],
   "id": "2979a57e5fe6c79d"
  },
  {
   "metadata": {},
   "cell_type": "code",
   "outputs": [],
   "execution_count": null,
   "source": [
    "# Save the scores to a CSV file\n",
    "write.csv(scores_df, output_file)"
   ],
   "id": "99df275eb09e0211"
  },
  {
   "metadata": {},
   "cell_type": "code",
   "outputs": [],
   "execution_count": null,
   "source": "sessionInfo()",
   "id": "22af547dcf6a9997"
  }
 ],
 "metadata": {
  "kernelspec": {
   "display_name": "R",
   "language": "R",
   "name": "ir"
  },
  "language_info": {
   "codemirror_mode": {
    "name": "ipython",
    "version": 2
   },
   "file_extension": ".r",
   "mimetype": "text/x-r-source",
   "name": "R",
   "nbconvert_exporter": "html",
   "pygments_lexer": "r",
   "version": "2.7.6"
  }
 },
 "nbformat": 4,
 "nbformat_minor": 5
}
