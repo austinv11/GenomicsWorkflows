{
 "cells": [
  {
   "metadata": {},
   "cell_type": "markdown",
   "source": [
    "# CNV Calling with InferCNV\n",
    "\n",
    "Based on the InferCNV package tutorials https://github.com/broadinstitute/infercnv/"
   ],
   "id": "3ff2bdc2a6e17fd7"
  },
  {
   "metadata": {},
   "cell_type": "code",
   "outputs": [],
   "execution_count": null,
   "source": [
    "reference <- Sys.getenv(\"SNAKEMAKE_REFERENCE_LIST\")\n",
    "input_file <- Sys.getenv(\"SNAKEMAKE_INPUT_FILE\")  # Input h5ad file\n",
    "gene_order_file <- Sys.getenv(\"SNAKEMAKE_GENE_ORDER_FILE\")  # Gene order file for InferCNV\n",
    "celltype_column <- Sys.getenv(\"SNAKEMAKE_CELLTYPE_COLUMN\", \"celltype\")  # Column in adata with cell type information\n",
    "output_dir <- Sys.getenv(\"SNAKEMAKE_OUTPUT_DIRECTORY\")  # Output directory for InferCNV results\n",
    "threads <- as.integer(Sys.getenv(\"SNAKEMAKE_NUM_THREADS\", \"1\"))  # Number of threads to use\n",
    "\n",
    "# Check that the file exists\n",
    "if (!file.exists(input_file)) {\n",
    "  stop(paste(\"Input file does not exist:\", input_file))\n",
    "}\n",
    "\n",
    "if (!file.exists(gene_order_file)) {\n",
    "  stop(paste(\"Gene order file does not exist:\", gene_order_file))\n",
    "}\n",
    "\n",
    "cat(paste(\"Reference cell types:\", reference, \"\\n\"))\n",
    "cat(paste(\"Input file:\", input_file, \"\\n\"))\n",
    "cat(paste(\"Gene order file:\", gene_order_file, \"\\n\"))\n",
    "cat(paste(\"Cell type column:\", celltype_column, \"\\n\"))\n",
    "cat(paste(\"Output directory:\", output_dir, \"\\n\"))\n",
    "cat(paste(\"Number of threads:\", threads, \"\\n\"))"
   ],
   "id": "f69a317ac566ae35"
  },
  {
   "metadata": {},
   "cell_type": "code",
   "outputs": [],
   "execution_count": null,
   "source": [
    "# Load the input data as a SingleCellExperiment object\n",
    "library(zellkonverter)\n",
    "setZellkonverterVerbose(TRUE)\n",
    "adata <- readH5AD(input_file)\n",
    "adata"
   ],
   "id": "21094971df1158a0"
  },
  {
   "metadata": {},
   "cell_type": "code",
   "outputs": [],
   "execution_count": null,
   "source": [
    "# Generate inputs\n",
    "# First, grab the expression matrix and make sure it is dense\n",
    "library(Matrix)\n",
    "if (is(adata$X, \"dgCMatrix\")) {\n",
    "  expression <- as.matrix(adata$X)\n",
    "} else {\n",
    "    expression <- adata$X\n",
    "}\n",
    "# Write the annotations file (tab-separated, no header cell barcode in first column, cell type in second)\n",
    "annotations <- data.frame(\n",
    "  cell = colnames(adata$X),\n",
    "  celltype = adata[[celltype_column]]\n",
    ")\n",
    "write.table(\n",
    "  annotations,\n",
    "  file = \"annotations.txt\",\n",
    "  sep = \"\\t\",\n",
    "  row.names = FALSE,\n",
    "  col.names = FALSE,\n",
    "  quote = FALSE\n",
    ")\n",
    "# Clear the adata object to free up memory\n",
    "rm(adata)"
   ],
   "id": "b94831f103b44b0d"
  },
  {
   "metadata": {},
   "cell_type": "code",
   "outputs": [],
   "execution_count": null,
   "source": [
    "# Create the object for InferCNV\n",
    "library(infercnv)\n",
    "infercnv_obj <- CreateInfercnvObject(\n",
    "  raw_counts_matrix = expression,\n",
    "  gene_order_file = gene_order_file,\n",
    "  annotations_file = \"annotations.txt\",\n",
    "  ref_group_names = strsplit(reference, \",\")[[1]],\n",
    "  gene_mode = \"gene_symbol\",\n",
    "  delim = \"\\t\",\n",
    ")"
   ],
   "id": "809815df6c369d6"
  },
  {
   "metadata": {},
   "cell_type": "code",
   "outputs": [],
   "execution_count": null,
   "source": [
    "# Perform the CNV inference\n",
    "infercnv_obj <- infercnv::run(\n",
    "  infercnv_obj,\n",
    "  cutoff = 0.1,  # Set the cutoff for CNV detection (0.1 is a common value for 10X Genomics data)\n",
    "  out_dir = output_dir,  # Output directory\n",
    "  cluster_by_groups = TRUE,  # Cluster by cell type groups\n",
    "  denoise = TRUE,  # Denoise the data\n",
    "  HMM = TRUE,\n",
    "  analysis_mode='subclusters',  # https://github.com/broadinstitute/inferCNV/wiki/infercnv-tumor-subclusters\n",
    "  num_threads = threads,  # Number of threads to use\n",
    "  output_format= \"pdf\",  # Output format for the plots\n",
    ")\n",
    "infercnv_obj"
   ],
   "id": "8965a47af432b6ed"
  },
  {
   "metadata": {},
   "cell_type": "code",
   "outputs": [],
   "execution_count": null,
   "source": "sessionInfo()",
   "id": "2ab484d47ee9b957"
  }
 ],
 "metadata": {
  "kernelspec": {
   "display_name": "R",
   "language": "R",
   "name": "ir"
  },
  "language_info": {
   "codemirror_mode": {
    "name": "ipython",
    "version": 2
   },
   "file_extension": ".r",
   "mimetype": "text/x-r-source",
   "name": "R",
   "nbconvert_exporter": "html",
   "pygments_lexer": "r",
   "version": "2.7.6"
  }
 },
 "nbformat": 4,
 "nbformat_minor": 5
}
