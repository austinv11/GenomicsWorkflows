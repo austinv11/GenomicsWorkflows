{
 "cells": [
  {
   "metadata": {},
   "cell_type": "markdown",
   "source": "# Basic Pre-processing of 10X scRNA-seq data (Part 1)",
   "id": "d0dac9e0605a1e0c"
  },
  {
   "metadata": {},
   "cell_type": "markdown",
   "source": "Load the processed dataset from the snakemake pipeline",
   "id": "1bdada8123074ee6"
  },
  {
   "metadata": {},
   "cell_type": "code",
   "source": [
    "# Load params\n",
    "import os\n",
    "\n",
    "h5ad_file = os.getenv(\"SNAKEMAKE_H5AD_FILE\")\n",
    "if h5ad_file is None:\n",
    "    raise ValueError(\"SNAKEMAKE_H5AD_FILE environment variable is not set.\")\n",
    "outlier_threshold = os.getenv(\"SNAKEMAKE_OUTLIER_THRESHOLD\", \"5\")\n",
    "outlier_threshold = int(outlier_threshold)\n",
    "processed_filename = os.getenv(\"SNAKEMAKE_PROCESSED_FILENAME\", \"processed_adata.h5ad\")\n",
    "print(\"Scanpy anndata file:\", h5ad_file)\n",
    "print(\"Outlier threshold:\", outlier_threshold)\n",
    "print(\"Processed filename:\", processed_filename)"
   ],
   "id": "initial_id",
   "outputs": [],
   "execution_count": null
  },
  {
   "metadata": {},
   "cell_type": "markdown",
   "source": "Convert into a `Scanpy` object",
   "id": "5963dd7249a023f9"
  },
  {
   "metadata": {},
   "cell_type": "code",
   "source": [
    "import scanpy as sc\n",
    "adata = sc.read_h5ad(h5ad_file)\n",
    "\n",
    "print(\"Loaded AnnData object successfully.\")\n",
    "print(\"Shape: \", adata.shape)"
   ],
   "id": "198fa82524b278e6",
   "outputs": [],
   "execution_count": null
  },
  {
   "metadata": {},
   "cell_type": "markdown",
   "source": "# Perform basic QC analysis and filtering",
   "id": "34ec3937cb023da2"
  },
  {
   "metadata": {},
   "cell_type": "markdown",
   "source": "First, we will evaluate low-quality cells. Much of this is based on the [single-cell best practices workflow](https://www.sc-best-practices.org/preprocessing_visualization/quality_control.html).",
   "id": "6733f4884564d98d"
  },
  {
   "metadata": {},
   "cell_type": "code",
   "source": [
    "# mitochondrial genes\n",
    "adata.var[\"mt\"] = adata.var_names.str.startswith(\"MT-\")\n",
    "# ribosomal genes\n",
    "adata.var[\"ribo\"] = adata.var_names.str.startswith((\"RPS\", \"RPL\"))\n",
    "# hemoglobin genes.\n",
    "adata.var[\"hb\"] = adata.var_names.str.contains(\"^HB[^(P)]\")\n",
    "sc.pp.calculate_qc_metrics(\n",
    "    adata, qc_vars=[\"mt\", \"ribo\", \"hb\"], inplace=True, percent_top=[20], log1p=True\n",
    ")\n",
    "adata"
   ],
   "id": "aeda59c257d717f9",
   "outputs": [],
   "execution_count": null
  },
  {
   "metadata": {},
   "cell_type": "markdown",
   "source": "Evaluate and filter cells",
   "id": "6c8700fe0e21fd44"
  },
  {
   "metadata": {},
   "cell_type": "code",
   "source": [
    "import seaborn as sns\n",
    "import matplotlib.pyplot as plt\n",
    "\n",
    "sns.displot(adata.obs[\"total_counts\"], bins=100, kde=False)\n",
    "plt.xlabel(\"Total counts per cell\")\n",
    "plt.ylabel(\"Number of cells\")\n",
    "plt.title(\"Distribution of total counts per cell\")\n",
    "plt.show()"
   ],
   "id": "15d065ef529846a2",
   "outputs": [],
   "execution_count": null
  },
  {
   "metadata": {},
   "cell_type": "code",
   "source": [
    "fig, ax = plt.subplots()\n",
    "ax = sc.pl.violin(adata, [\"pct_counts_mt\", \"pct_counts_ribo\", \"pct_counts_hb\"], jitter=0.4, ax=ax, show=False)\n",
    "ax.set_ylabel(\"Percentage of counts\")\n",
    "ax.set_title(\"Percentage of counts in mitochondrial, ribosomal, and hemoglobin genes\")\n",
    "plt.show()"
   ],
   "id": "d9629436f3e3c11d",
   "outputs": [],
   "execution_count": null
  },
  {
   "metadata": {},
   "cell_type": "code",
   "source": [
    "fig, ax = plt.subplots()\n",
    "ax = sc.pl.scatter(adata, \"total_counts\", \"n_genes_by_counts\", color=\"pct_counts_mt\", show=False, ax=ax)\n",
    "ax.set_xlabel(\"Total counts per cell\")\n",
    "ax.set_ylabel(\"Number of genes per cell\")\n",
    "ax.set_title(\"Total counts vs. number of genes per cell\")\n",
    "plt.show()"
   ],
   "id": "606529939ee25e75",
   "outputs": [],
   "execution_count": null
  },
  {
   "metadata": {},
   "cell_type": "markdown",
   "source": "Compute median standard deviation (MAD): $MAD = \\text{median}(|x_i - \\text{median}(x)|)$ to automatically threshold outliers",
   "id": "89eca8b5d34bb36"
  },
  {
   "metadata": {},
   "cell_type": "code",
   "source": [
    "from scipy.stats import median_abs_deviation\n",
    "import numpy as np\n",
    "\n",
    "# Save a copy in .raw\n",
    "adata.raw = adata.copy()\n",
    "\n",
    "def evaluate_outlier(observations: np.ndarray, mad_threshold: int) -> np.ndarray:\n",
    "    \"\"\"\n",
    "    Evaluate outliers based on the median absolute deviation (MAD) method.\n",
    "    :param observations: The observations to evaluate.\n",
    "    :param mad_threshold: The number of standard deviations above which to consider an outlier.\n",
    "    :return: A boolean array indicating which observations are outliers.\n",
    "    \"\"\"\n",
    "    med = np.median(observations)\n",
    "    outlier = (observations < med - mad_threshold * median_abs_deviation(observations)) | (\n",
    "        med + mad_threshold * median_abs_deviation(observations) < observations\n",
    "    )\n",
    "    return outlier\n",
    "\n",
    "# Evaluate outliers\n",
    "adata.obs[\"outlier\"] = (\n",
    "    evaluate_outlier(adata.obs[\"log1p_total_counts\"], outlier_threshold)\n",
    "    | evaluate_outlier(adata.obs[\"log1p_n_genes_by_counts\"], outlier_threshold)\n",
    "    | evaluate_outlier(adata.obs[\"pct_counts_in_top_20_genes\"], outlier_threshold)\n",
    ")\n",
    "adata.obs.outlier.value_counts()"
   ],
   "id": "3913719bd06ab681",
   "outputs": [],
   "execution_count": null
  },
  {
   "metadata": {},
   "cell_type": "code",
   "source": [
    "# MT-outliers are slightly different\n",
    "adata.obs[\"mt_outlier\"] = evaluate_outlier(adata.obs[\"pct_counts_mt\"], outlier_threshold - 2) | (adata.obs['pct_counts_mt'] > 10)\n",
    "adata.obs.mt_outlier.value_counts()"
   ],
   "id": "a15639ba8d2dfa6e",
   "outputs": [],
   "execution_count": null
  },
  {
   "metadata": {},
   "cell_type": "code",
   "source": [
    "to_filter_out = adata.obs[\"outlier\"] | adata.obs[\"mt_outlier\"]\n",
    "print(\"Number of cells to filter out:\", to_filter_out.sum())\n",
    "print(\"Out of total cells:\", adata.shape[0])\n",
    "\n",
    "adata = adata[~to_filter_out].copy()\n",
    "adata"
   ],
   "id": "d9b1f9de6a71ec03",
   "outputs": [],
   "execution_count": null
  },
  {
   "metadata": {},
   "cell_type": "code",
   "source": [
    "fig, ax = plt.subplots()\n",
    "ax = sc.pl.scatter(adata, \"total_counts\", \"n_genes_by_counts\", color=\"pct_counts_mt\", show=False, ax=ax)\n",
    "ax.set_xlabel(\"Total counts per cell\")\n",
    "ax.set_ylabel(\"Number of genes per cell\")\n",
    "ax.set_title(\"Total counts vs. number of genes per cell (after filtering)\")\n",
    "plt.show()"
   ],
   "id": "4062de949e316c61",
   "outputs": [],
   "execution_count": null
  },
  {
   "metadata": {},
   "cell_type": "markdown",
   "source": "# Saving the processed data",
   "id": "18504d45323b75c"
  },
  {
   "metadata": {},
   "cell_type": "code",
   "source": "adata.write(processed_filename, compression=\"gzip\")",
   "id": "e55abec16900247d",
   "outputs": [],
   "execution_count": null
  }
 ],
 "metadata": {
  "kernelspec": {
   "display_name": "Python 3",
   "language": "python",
   "name": "python3"
  },
  "language_info": {
   "codemirror_mode": {
    "name": "ipython",
    "version": 2
   },
   "file_extension": ".py",
   "mimetype": "text/x-python",
   "name": "python",
   "nbconvert_exporter": "python",
   "pygments_lexer": "ipython2",
   "version": "2.7.6"
  }
 },
 "nbformat": 4,
 "nbformat_minor": 5
}
