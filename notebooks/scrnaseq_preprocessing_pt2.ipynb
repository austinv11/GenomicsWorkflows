{
 "cells": [
  {
   "metadata": {},
   "cell_type": "markdown",
   "source": "# Basic Pre-processing of 10X scRNA-seq data (Part 2)",
   "id": "d0dac9e0605a1e0c"
  },
  {
   "metadata": {},
   "cell_type": "markdown",
   "source": "Load the processed dataset from the snakemake pipeline",
   "id": "1bdada8123074ee6"
  },
  {
   "metadata": {},
   "cell_type": "code",
   "source": [
    "# Load params\n",
    "import os\n",
    "\n",
    "h5ad_file = os.getenv(\"SNAKEMAKE_H5AD_FILE\")\n",
    "if h5ad_file is None:\n",
    "    raise ValueError(\"SNAKEMAKE_H5AD_FILE environment variable is not set.\")\n",
    "doublet_table = os.getenv(\"SNAKEMAKE_DOUBLET_FILE\")\n",
    "if doublet_table is None:\n",
    "    raise ValueError(\"SNAKEMAKE_DOUBLET_FILE environment variable is not set.\")\n",
    "n_hvgs = os.getenv(\"SNAKEMAKE_N_HVGS\", \"5000\")\n",
    "n_hvgs = int(n_hvgs)\n",
    "processed_filename = os.getenv(\"SNAKEMAKE_PROCESSED_FILENAME\", \"processed_adata.h5ad\")\n",
    "print(\"Scanpy anndata file:\", h5ad_file)\n",
    "print(\"Doublet table file:\", doublet_table)\n",
    "print(\"Number of highly variable genes to compute:\", n_hvgs)\n",
    "print(\"Processed filename:\", processed_filename)"
   ],
   "id": "initial_id",
   "outputs": [],
   "execution_count": null
  },
  {
   "metadata": {},
   "cell_type": "markdown",
   "source": "Convert into a `Scanpy` object",
   "id": "5963dd7249a023f9"
  },
  {
   "metadata": {},
   "cell_type": "code",
   "source": [
    "import scanpy as sc\n",
    "adata = sc.read_h5ad(h5ad_file)\n",
    "\n",
    "# Delete the old raw data if it exists\n",
    "adata.raw = None\n",
    "# Copy the current object\n",
    "adata.raw = adata.copy()\n",
    "\n",
    "print(\"Loaded AnnData object successfully.\")\n",
    "print(\"Shape: \", adata.shape)"
   ],
   "id": "198fa82524b278e6",
   "outputs": [],
   "execution_count": null
  },
  {
   "metadata": {},
   "cell_type": "markdown",
   "source": "Read the doublet table and add it to the AnnData object",
   "id": "8986e7794295aae9"
  },
  {
   "metadata": {},
   "cell_type": "code",
   "outputs": [],
   "execution_count": null,
   "source": [
    "import pandas as pd\n",
    "doublet_df = pd.read_csv(doublet_table, index_col=0)\n",
    "doublet_df.index.name = \"cell\"\n",
    "doublet_df['scDblFinder.class'].value_counts()"
   ],
   "id": "2c6161dba62de83e"
  },
  {
   "metadata": {},
   "cell_type": "markdown",
   "source": "Plot doublet scores, then remove doublets from the AnnData object",
   "id": "a75b62b15848fa75"
  },
  {
   "metadata": {},
   "cell_type": "code",
   "outputs": [],
   "execution_count": null,
   "source": [
    "import matplotlib.pyplot as plt\n",
    "# Histogram of doublet scores\n",
    "plt.figure(figsize=(8, 6))\n",
    "plt.hist(doublet_df['scDblFinder.score'], bins=50, color='blue', alpha=0.7)\n",
    "plt.xlabel('Doublet Score')\n",
    "plt.ylabel('Frequency')\n",
    "plt.title('Distribution of Doublet Scores')"
   ],
   "id": "dcc1948f24954f4f"
  },
  {
   "metadata": {},
   "cell_type": "code",
   "outputs": [],
   "execution_count": null,
   "source": [
    "# Add doublet info to the AnnData object by joining on the index\n",
    "adata.obs = adata.obs.join(doublet_df, how='left')\n",
    "adata"
   ],
   "id": "896ad3ed47547f03"
  },
  {
   "metadata": {},
   "cell_type": "code",
   "outputs": [],
   "execution_count": null,
   "source": [
    "# Remove doublets from the AnnData object\n",
    "adata = adata[adata.obs['scDblFinder.class'] != 'doublet'].copy()\n",
    "adata"
   ],
   "id": "c486e3152cd503bd"
  },
  {
   "metadata": {},
   "cell_type": "markdown",
   "source": "# Basic Pre-processing analysis",
   "id": "defa7b7b4d18312"
  },
  {
   "metadata": {},
   "cell_type": "markdown",
   "source": "We will call HVGs using the pearson-residual method which acts on raw counts",
   "id": "7cd37842dba09b9f"
  },
  {
   "metadata": {},
   "cell_type": "code",
   "source": [
    "sc.experimental.pp.highly_variable_genes(adata, n_top_genes=n_hvgs, flavor=\"pearson_residuals\", layer=None, batch_key='sample')\n",
    "\n",
    "print(\"Number of highly variable genes:\", adata.var[\"highly_variable\"].sum())"
   ],
   "id": "64e803f84e422d6f",
   "outputs": [],
   "execution_count": null
  },
  {
   "metadata": {},
   "cell_type": "markdown",
   "source": "Compute the number of PCs needed using the kneedle method",
   "id": "9a8cb3bed0b44ebb"
  },
  {
   "metadata": {},
   "cell_type": "code",
   "source": [
    "# Create a logX layer\n",
    "n_pcs = 100\n",
    "adata.layers[\"logX\"] = adata.X.copy()\n",
    "sc.pp.normalize_total(adata, target_sum=1e4, layer=\"logX\", inplace=True)\n",
    "sc.pp.log1p(adata, layer=\"logX\", copy=False)\n",
    "sc.pp.pca(adata, mask_var='highly_variable', layer=\"logX\", n_comps=n_pcs, svd_solver=\"arpack\")\n",
    "adata"
   ],
   "id": "d7bd61e5bc12592f",
   "outputs": [],
   "execution_count": null
  },
  {
   "metadata": {},
   "cell_type": "code",
   "source": [
    "import numpy as np\n",
    "var_ratio = adata.uns[\"pca\"][\"variance_ratio\"]\n",
    "cum_var = np.cumsum(var_ratio)\n",
    "cum_var"
   ],
   "id": "d31abf3416562a0",
   "outputs": [],
   "execution_count": null
  },
  {
   "metadata": {},
   "cell_type": "code",
   "source": [
    "from kneed import KneeLocator\n",
    "kl = KneeLocator(\n",
    "    range(1, len(cum_var) + 1),\n",
    "    cum_var,\n",
    "    curve=\"concave\",\n",
    "    direction=\"increasing\",\n",
    "    S=1.0,\n",
    ")\n",
    "if not kl.knee:\n",
    "    print(\"Warning: no knee point. Using all PCs.\")\n",
    "else:\n",
    "    n_pcs = int(kl.knee)\n",
    "    print(f\"Number of PCs to use: {n_pcs}\")"
   ],
   "id": "171eab200b7c2bcf",
   "outputs": [],
   "execution_count": null
  },
  {
   "metadata": {},
   "cell_type": "code",
   "source": [
    "import matplotlib.pyplot as plt\n",
    "# Plot the knee\n",
    "sc.pl.pca_variance_ratio(adata, log=True, show=False)\n",
    "ax = plt.gca()\n",
    "ax.axvline(n_pcs, color=\"red\", linestyle=\"--\", label=f\"n_pcs={n_pcs}\")\n",
    "ax.set_xlabel(\"Number of PCs\")\n",
    "ax.set_ylabel(\"Variance explained (log scale)\")\n",
    "ax.set_title(\"Variance explained by PCs (with knee point)\")\n",
    "plt.show()"
   ],
   "id": "b057b42335bdb3d0",
   "outputs": [],
   "execution_count": null
  },
  {
   "metadata": {},
   "cell_type": "markdown",
   "source": "# Finally, some basic clustering and visualization",
   "id": "e0eab29bcd334656"
  },
  {
   "metadata": {},
   "cell_type": "code",
   "source": [
    "sc.pp.neighbors(adata, n_pcs=n_pcs)\n",
    "sc.tl.umap(adata, min_dist=0.5, spread=1.0)\n",
    "sc.tl.leiden(adata, resolution=0.5)\n",
    "sc.pl.umap(adata, color=[\"leiden\", \"n_genes_by_counts\", \"total_counts\", \"pct_counts_mt\", 'sample', ], frameon=False, ncols=2)"
   ],
   "id": "85d9be6b6109e9db",
   "outputs": [],
   "execution_count": null
  },
  {
   "metadata": {},
   "cell_type": "markdown",
   "source": "# Saving the processed data",
   "id": "18504d45323b75c"
  },
  {
   "metadata": {},
   "cell_type": "code",
   "source": "adata.write(processed_filename, compression=\"gzip\")",
   "id": "e55abec16900247d",
   "outputs": [],
   "execution_count": null
  }
 ],
 "metadata": {
  "kernelspec": {
   "display_name": "Python 3",
   "language": "python",
   "name": "python3"
  },
  "language_info": {
   "codemirror_mode": {
    "name": "ipython",
    "version": 2
   },
   "file_extension": ".py",
   "mimetype": "text/x-python",
   "name": "python",
   "nbconvert_exporter": "python",
   "pygments_lexer": "ipython2",
   "version": "2.7.6"
  }
 },
 "nbformat": 4,
 "nbformat_minor": 5
}
